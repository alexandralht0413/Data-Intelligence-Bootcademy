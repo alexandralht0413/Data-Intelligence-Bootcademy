{
 "cells": [
  {
   "cell_type": "code",
   "execution_count": 3,
   "metadata": {},
   "outputs": [],
   "source": [
    "import pandas as pd\n",
    "from matplotlib import pyplot as plt\n"
   ]
  },
  {
   "cell_type": "code",
   "execution_count": 4,
   "metadata": {},
   "outputs": [],
   "source": [
    "BCOM_Asia = pd.read_excel(\"BCOM Asian Dynamic Equity (CF) Fund.xlsx\")"
   ]
  },
  {
   "cell_type": "code",
   "execution_count": 8,
   "metadata": {
    "scrolled": false
   },
   "outputs": [
    {
     "data": {
      "text/plain": [
       "(1227, 3)"
      ]
     },
     "execution_count": 8,
     "metadata": {},
     "output_type": "execute_result"
    }
   ],
   "source": [
    "BCOM_Asia.shape"
   ]
  },
  {
   "cell_type": "code",
   "execution_count": 14,
   "metadata": {},
   "outputs": [
    {
     "name": "stdout",
     "output_type": "stream",
     "text": [
      "<class 'pandas.core.frame.DataFrame'>\n",
      "RangeIndex: 1227 entries, 0 to 1226\n",
      "Data columns (total 3 columns):\n",
      " #   Column              Non-Null Count  Dtype         \n",
      "---  ------              --------------  -----         \n",
      " 0   Date                1226 non-null   datetime64[ns]\n",
      " 1   FUND_NET_ASSET_VAL  1226 non-null   float64       \n",
      " 2   FUND_TOTAL_ASSETS   24 non-null     float64       \n",
      "dtypes: datetime64[ns](1), float64(2)\n",
      "memory usage: 28.9 KB\n"
     ]
    }
   ],
   "source": [
    "BCOM_Asia.info()\n",
    "#count for FUND_TOTAL_ASSETS is 24 because it only has data once a month."
   ]
  },
  {
   "cell_type": "code",
   "execution_count": 10,
   "metadata": {},
   "outputs": [
    {
     "data": {
      "text/plain": [
       "array([[NaT, 39.0137, nan],\n",
       "       [Timestamp('2020-10-20 00:00:00'), 38.8284, nan],\n",
       "       [Timestamp('2020-10-19 00:00:00'), 38.7762, nan],\n",
       "       ...,\n",
       "       [Timestamp('2015-11-03 00:00:00'), 28.0202, nan],\n",
       "       [Timestamp('2015-11-02 00:00:00'), 27.7588, nan],\n",
       "       [Timestamp('2015-10-30 00:00:00'), 27.8323, nan]], dtype=object)"
      ]
     },
     "execution_count": 10,
     "metadata": {},
     "output_type": "execute_result"
    }
   ],
   "source": [
    "BCOM_Asia.values"
   ]
  },
  {
   "cell_type": "code",
   "execution_count": 9,
   "metadata": {},
   "outputs": [
    {
     "data": {
      "text/html": [
       "<div>\n",
       "<style scoped>\n",
       "    .dataframe tbody tr th:only-of-type {\n",
       "        vertical-align: middle;\n",
       "    }\n",
       "\n",
       "    .dataframe tbody tr th {\n",
       "        vertical-align: top;\n",
       "    }\n",
       "\n",
       "    .dataframe thead th {\n",
       "        text-align: right;\n",
       "    }\n",
       "</style>\n",
       "<table border=\"1\" class=\"dataframe\">\n",
       "  <thead>\n",
       "    <tr style=\"text-align: right;\">\n",
       "      <th></th>\n",
       "      <th>FUND_NET_ASSET_VAL</th>\n",
       "      <th>FUND_TOTAL_ASSETS</th>\n",
       "    </tr>\n",
       "  </thead>\n",
       "  <tbody>\n",
       "    <tr>\n",
       "      <th>count</th>\n",
       "      <td>1226.000000</td>\n",
       "      <td>24.000000</td>\n",
       "    </tr>\n",
       "    <tr>\n",
       "      <th>mean</th>\n",
       "      <td>32.973023</td>\n",
       "      <td>424.857083</td>\n",
       "    </tr>\n",
       "    <tr>\n",
       "      <th>std</th>\n",
       "      <td>4.345735</td>\n",
       "      <td>45.540503</td>\n",
       "    </tr>\n",
       "    <tr>\n",
       "      <th>min</th>\n",
       "      <td>23.387600</td>\n",
       "      <td>335.300000</td>\n",
       "    </tr>\n",
       "    <tr>\n",
       "      <th>25%</th>\n",
       "      <td>29.468925</td>\n",
       "      <td>398.852500</td>\n",
       "    </tr>\n",
       "    <tr>\n",
       "      <th>50%</th>\n",
       "      <td>33.450300</td>\n",
       "      <td>433.085000</td>\n",
       "    </tr>\n",
       "    <tr>\n",
       "      <th>75%</th>\n",
       "      <td>36.311075</td>\n",
       "      <td>451.212500</td>\n",
       "    </tr>\n",
       "    <tr>\n",
       "      <th>max</th>\n",
       "      <td>42.331200</td>\n",
       "      <td>498.450000</td>\n",
       "    </tr>\n",
       "  </tbody>\n",
       "</table>\n",
       "</div>"
      ],
      "text/plain": [
       "       FUND_NET_ASSET_VAL  FUND_TOTAL_ASSETS\n",
       "count         1226.000000          24.000000\n",
       "mean            32.973023         424.857083\n",
       "std              4.345735          45.540503\n",
       "min             23.387600         335.300000\n",
       "25%             29.468925         398.852500\n",
       "50%             33.450300         433.085000\n",
       "75%             36.311075         451.212500\n",
       "max             42.331200         498.450000"
      ]
     },
     "execution_count": 9,
     "metadata": {},
     "output_type": "execute_result"
    }
   ],
   "source": [
    "BCOM_Asia.describe()"
   ]
  },
  {
   "cell_type": "code",
   "execution_count": 11,
   "metadata": {},
   "outputs": [
    {
     "data": {
      "text/plain": [
       "<bound method NDFrame.head of            Date  FUND_NET_ASSET_VAL  FUND_TOTAL_ASSETS\n",
       "0           NaT             39.0137                NaN\n",
       "1    2020-10-20             38.8284                NaN\n",
       "2    2020-10-19             38.7762                NaN\n",
       "3    2020-10-16             38.5400                NaN\n",
       "4    2020-10-15             38.5720                NaN\n",
       "...         ...                 ...                ...\n",
       "1222 2015-11-05             28.2279                NaN\n",
       "1223 2015-11-04             28.3765                NaN\n",
       "1224 2015-11-03             28.0202                NaN\n",
       "1225 2015-11-02             27.7588                NaN\n",
       "1226 2015-10-30             27.8323                NaN\n",
       "\n",
       "[1227 rows x 3 columns]>"
      ]
     },
     "execution_count": 11,
     "metadata": {},
     "output_type": "execute_result"
    }
   ],
   "source": [
    "BCOM_Asia.head"
   ]
  },
  {
   "cell_type": "code",
   "execution_count": 12,
   "metadata": {},
   "outputs": [
    {
     "data": {
      "text/plain": [
       "<bound method NDFrame.tail of            Date  FUND_NET_ASSET_VAL  FUND_TOTAL_ASSETS\n",
       "0           NaT             39.0137                NaN\n",
       "1    2020-10-20             38.8284                NaN\n",
       "2    2020-10-19             38.7762                NaN\n",
       "3    2020-10-16             38.5400                NaN\n",
       "4    2020-10-15             38.5720                NaN\n",
       "...         ...                 ...                ...\n",
       "1222 2015-11-05             28.2279                NaN\n",
       "1223 2015-11-04             28.3765                NaN\n",
       "1224 2015-11-03             28.0202                NaN\n",
       "1225 2015-11-02             27.7588                NaN\n",
       "1226 2015-10-30             27.8323                NaN\n",
       "\n",
       "[1227 rows x 3 columns]>"
      ]
     },
     "execution_count": 12,
     "metadata": {},
     "output_type": "execute_result"
    }
   ],
   "source": [
    "BCOM_Asia.tail"
   ]
  },
  {
   "cell_type": "code",
   "execution_count": 24,
   "metadata": {},
   "outputs": [
    {
     "data": {
      "text/plain": [
       "Date                  datetime64[ns]\n",
       "FUND_NET_ASSET_VAL           float64\n",
       "FUND_TOTAL_ASSETS            float64\n",
       "dtype: object"
      ]
     },
     "execution_count": 24,
     "metadata": {},
     "output_type": "execute_result"
    }
   ],
   "source": [
    "BCOM_Asia.dtypes"
   ]
  },
  {
   "cell_type": "code",
   "execution_count": 25,
   "metadata": {},
   "outputs": [
    {
     "data": {
      "text/html": [
       "<div>\n",
       "<style scoped>\n",
       "    .dataframe tbody tr th:only-of-type {\n",
       "        vertical-align: middle;\n",
       "    }\n",
       "\n",
       "    .dataframe tbody tr th {\n",
       "        vertical-align: top;\n",
       "    }\n",
       "\n",
       "    .dataframe thead th {\n",
       "        text-align: right;\n",
       "    }\n",
       "</style>\n",
       "<table border=\"1\" class=\"dataframe\">\n",
       "  <thead>\n",
       "    <tr style=\"text-align: right;\">\n",
       "      <th></th>\n",
       "      <th>Date</th>\n",
       "      <th>FUND_NET_ASSET_VAL</th>\n",
       "      <th>FUND_TOTAL_ASSETS</th>\n",
       "    </tr>\n",
       "  </thead>\n",
       "  <tbody>\n",
       "    <tr>\n",
       "      <th>0</th>\n",
       "      <td>NaT</td>\n",
       "      <td>39.0137</td>\n",
       "      <td>NaN</td>\n",
       "    </tr>\n",
       "    <tr>\n",
       "      <th>1</th>\n",
       "      <td>2020-10-20</td>\n",
       "      <td>38.8284</td>\n",
       "      <td>NaN</td>\n",
       "    </tr>\n",
       "    <tr>\n",
       "      <th>2</th>\n",
       "      <td>2020-10-19</td>\n",
       "      <td>38.7762</td>\n",
       "      <td>NaN</td>\n",
       "    </tr>\n",
       "    <tr>\n",
       "      <th>3</th>\n",
       "      <td>2020-10-16</td>\n",
       "      <td>38.5400</td>\n",
       "      <td>NaN</td>\n",
       "    </tr>\n",
       "    <tr>\n",
       "      <th>4</th>\n",
       "      <td>2020-10-15</td>\n",
       "      <td>38.5720</td>\n",
       "      <td>NaN</td>\n",
       "    </tr>\n",
       "    <tr>\n",
       "      <th>...</th>\n",
       "      <td>...</td>\n",
       "      <td>...</td>\n",
       "      <td>...</td>\n",
       "    </tr>\n",
       "    <tr>\n",
       "      <th>1222</th>\n",
       "      <td>2015-11-05</td>\n",
       "      <td>28.2279</td>\n",
       "      <td>NaN</td>\n",
       "    </tr>\n",
       "    <tr>\n",
       "      <th>1223</th>\n",
       "      <td>2015-11-04</td>\n",
       "      <td>28.3765</td>\n",
       "      <td>NaN</td>\n",
       "    </tr>\n",
       "    <tr>\n",
       "      <th>1224</th>\n",
       "      <td>2015-11-03</td>\n",
       "      <td>28.0202</td>\n",
       "      <td>NaN</td>\n",
       "    </tr>\n",
       "    <tr>\n",
       "      <th>1225</th>\n",
       "      <td>2015-11-02</td>\n",
       "      <td>27.7588</td>\n",
       "      <td>NaN</td>\n",
       "    </tr>\n",
       "    <tr>\n",
       "      <th>1226</th>\n",
       "      <td>2015-10-30</td>\n",
       "      <td>27.8323</td>\n",
       "      <td>NaN</td>\n",
       "    </tr>\n",
       "  </tbody>\n",
       "</table>\n",
       "<p>1227 rows × 3 columns</p>\n",
       "</div>"
      ],
      "text/plain": [
       "           Date  FUND_NET_ASSET_VAL  FUND_TOTAL_ASSETS\n",
       "0           NaT             39.0137                NaN\n",
       "1    2020-10-20             38.8284                NaN\n",
       "2    2020-10-19             38.7762                NaN\n",
       "3    2020-10-16             38.5400                NaN\n",
       "4    2020-10-15             38.5720                NaN\n",
       "...         ...                 ...                ...\n",
       "1222 2015-11-05             28.2279                NaN\n",
       "1223 2015-11-04             28.3765                NaN\n",
       "1224 2015-11-03             28.0202                NaN\n",
       "1225 2015-11-02             27.7588                NaN\n",
       "1226 2015-10-30             27.8323                NaN\n",
       "\n",
       "[1227 rows x 3 columns]"
      ]
     },
     "execution_count": 25,
     "metadata": {},
     "output_type": "execute_result"
    }
   ],
   "source": [
    "BCOM_Asia.dropna(axis=\"index\",how=\"all\")"
   ]
  },
  {
   "cell_type": "code",
   "execution_count": 16,
   "metadata": {},
   "outputs": [
    {
     "data": {
      "text/plain": [
       "[<matplotlib.lines.Line2D at 0x1cec3a1ffa0>]"
      ]
     },
     "execution_count": 16,
     "metadata": {},
     "output_type": "execute_result"
    },
    {
     "data": {
      "image/png": "[encoded data removed]",
      "text/plain": [
       "<Figure size 432x288 with 1 Axes>"
      ]
     },
     "metadata": {
      "needs_background": "light"
     },
     "output_type": "display_data"
    }
   ],
   "source": [
    "plt.plot(BCOM_Asia.Date, BCOM_Asia.FUND_NET_ASSET_VAL)"
   ]
  },
  {
   "cell_type": "code",
   "execution_count": 34,
   "metadata": {},
   "outputs": [
    {
     "ename": "ModuleNotFoundError",
     "evalue": "No module named 'fbprophet'",
     "output_type": "error",
     "traceback": [
      "\u001b[1;31m---------------------------------------------------------------------------\u001b[0m",
      "\u001b[1;31mModuleNotFoundError\u001b[0m                       Traceback (most recent call last)",
      "\u001b[1;32m<ipython-input-34-1417235a7b4c>\u001b[0m in \u001b[0;36m<module>\u001b[1;34m\u001b[0m\n\u001b[0;32m      3\u001b[0m \u001b[1;32mfrom\u001b[0m \u001b[0mmatplotlib\u001b[0m \u001b[1;32mimport\u001b[0m \u001b[0mpyplot\u001b[0m \u001b[1;32mas\u001b[0m \u001b[0mplt\u001b[0m\u001b[1;33m\u001b[0m\u001b[1;33m\u001b[0m\u001b[0m\n\u001b[0;32m      4\u001b[0m \u001b[1;32mimport\u001b[0m \u001b[0mpandas\u001b[0m \u001b[1;32mas\u001b[0m \u001b[0mpd\u001b[0m\u001b[1;33m\u001b[0m\u001b[1;33m\u001b[0m\u001b[0m\n\u001b[1;32m----> 5\u001b[1;33m \u001b[1;32mfrom\u001b[0m \u001b[0mfbprophet\u001b[0m \u001b[1;32mimport\u001b[0m \u001b[0mProphet\u001b[0m\u001b[1;33m\u001b[0m\u001b[1;33m\u001b[0m\u001b[0m\n\u001b[0m",
      "\u001b[1;31mModuleNotFoundError\u001b[0m: No module named 'fbprophet'"
     ]
    }
   ],
   "source": [
    "import numpy as np\n",
    "\n",
    "from matplotlib import pyplot as plt\n",
    "import pandas as pd\n",
    "from fbprophet import Prophet\n"
   ]
  },
  {
   "cell_type": "code",
   "execution_count": null,
   "metadata": {},
   "outputs": [],
   "source": [
    "x=BCOM_Asia.drop(columns=[\"FUND_NET_ASSET_VAL\"])\n",
    "y=BCOM_Asia[\"FUND_NET_ASSET_VAL\"]\n",
    "\n",
    "from sklearn.tree import \n",
    "model=\n",
    "model.fit(x,y)\n",
    "\n",
    "from sklearn.model_selection import train_test_split\n",
    "train_test_split(x,y,test_size=0.2)\n",
    "x_train,x_test,y_train,y_test=model.fit(x_train,y_train)\n",
    "predictions=model.predict(x_test)\n",
    "\n"
   ]
  }
 ],
 "metadata": {
  "kernelspec": {
   "display_name": "Python 3",
   "language": "python",
   "name": "python3"
  },
  "language_info": {
   "codemirror_mode": {
    "name": "ipython",
    "version": 3
   },
   "file_extension": ".py",
   "mimetype": "text/x-python",
   "name": "python",
   "nbconvert_exporter": "python",
   "pygments_lexer": "ipython3",
   "version": "3.8.3"
  }
 },
 "nbformat": 4,
 "nbformat_minor": 4
}
