{
 "cells": [
  {
   "cell_type": "code",
   "execution_count": null,
   "metadata": {},
   "outputs": [],
   "source": []
  },
  {
   "cell_type": "code",
   "execution_count": null,
   "metadata": {},
   "outputs": [],
   "source": []
  },
  {
   "cell_type": "code",
   "execution_count": 1,
   "metadata": {},
   "outputs": [
    {
     "ename": "SyntaxError",
     "evalue": "invalid syntax (<ipython-input-1-ff8668428010>, line 11)",
     "output_type": "error",
     "traceback": [
      "\u001b[1;36m  File \u001b[1;32m\"<ipython-input-1-ff8668428010>\"\u001b[1;36m, line \u001b[1;32m11\u001b[0m\n\u001b[1;33m    plt.plot(\"Security\",. ,label=c)#plt.plot( X-Axis , Y-Axis, line_width, alpha_for_blending,  label)\u001b[0m\n\u001b[1;37m                        ^\u001b[0m\n\u001b[1;31mSyntaxError\u001b[0m\u001b[1;31m:\u001b[0m invalid syntax\n"
     ]
    }
   ],
   "source": [
    "#discarded\n",
    "#Visually show the fund prices.\n",
    "\n",
    "title = 'Portfolio Fund Net Asset Value History'\n",
    "#Get the stocks\n",
    "my_stocks = df\n",
    "#Create and plot the graph\n",
    "plt.figure(figsize=(12.2,4.5)) #width = 12.2in, height = 4.5\n",
    "# Loop through each stock and plot the Fund Net Asset Value for each day\n",
    "for c in my_stocks.columns.values:\n",
    "  plt.plot(\"Security\",,label=c)#plt.plot( X-Axis , Y-Axis, line_width, alpha_for_blending,  label)\n",
    "plt.title(title)\n",
    "plt.xlabel('Date',fontsize=18)\n",
    "plt.ylabel('NAV Price HKD ($)',fontsize=18)\n",
    "plt.legend(my_stocks.columns.values, loc='upper left')\n",
    "plt.show()"
   ]
  },
  {
   "cell_type": "code",
   "execution_count": null,
   "metadata": {},
   "outputs": [],
   "source": [
    "plt.plot(df.Security, .)"
   ]
  },
  {
   "cell_type": "code",
   "execution_count": null,
   "metadata": {},
   "outputs": [],
   "source": [
    "funds = df(columns=[“AMRCBLF HK Equity”, “AMRCASF HK Equity”, “AMRDALF HK Equity”, “AMRCGRF HK Equity”, “AMRSGRF HK Equity”, “AMINAGP HK Equity”, “AMINASF HK Equity”, “AMINCAA HK Equity”, “AMINEUF HK Equity”, “AMIGBOF HK Equity”, “AMIHKCF HK Equity”, “AMIMCOF HK Equity”, “AMIT  R HK Equity”, “AMIT  R HK Equity”, “AMIT  R HK Equity”, “AMIT  R HK Equity”, “CLMTAGP HK Equity”, “CLMMBAF HK Equity”, “CLMTCOA HK Equity”, “CLMMGOF HK Equity”, “CLMMGRF HK Equity”, “CLHKEQF HK Equity”, “CLMPCOF HK Equity”, “CLREGEF HK Equity”, “CLREGUF HK Equity”, “PRIAGSD HK Equity”, “PRSSCOA HK Equity”, “PRIGLGC HK Equity”, “PRIHDSC HK Equity”, “PRILTAC HK Equity”, “PRILTGC HK Equity”, “PRICAPC HK Equity”, “PRASBON HK Equity”, “PRISTYC HK Equity”])"
   ]
  },
  {
   "cell_type": "code",
   "execution_count": null,
   "metadata": {},
   "outputs": [],
   "source": [
    "x=df.drop(columns=[\"FUND_NET_ASSET_VAL\"])\n",
    "y=df[\"FUND_NET_ASSET_VAL\"]\n",
    "\n",
    "from sklearn.model_selection import train_test_split\n",
    "train_test_split(x,y,test_size=0.2)\n",
    "x_train,x_test,y_train,y_test=model.fit(x_train,y_train)\n",
    "predictions=model.predict(x_test)\n",
    "\n"
   ]
  },
  {
   "cell_type": "code",
   "execution_count": null,
   "metadata": {},
   "outputs": [],
   "source": []
  },
  {
   "cell_type": "code",
   "execution_count": null,
   "metadata": {},
   "outputs": [],
   "source": []
  },
  {
   "cell_type": "code",
   "execution_count": null,
   "metadata": {},
   "outputs": [],
   "source": []
  },
  {
   "cell_type": "code",
   "execution_count": null,
   "metadata": {},
   "outputs": [],
   "source": []
  },
  {
   "cell_type": "code",
   "execution_count": null,
   "metadata": {},
   "outputs": [],
   "source": []
  },
  {
   "cell_type": "code",
   "execution_count": null,
   "metadata": {},
   "outputs": [],
   "source": []
  },
  {
   "cell_type": "code",
   "execution_count": null,
   "metadata": {},
   "outputs": [],
   "source": []
  },
  {
   "cell_type": "code",
   "execution_count": null,
   "metadata": {},
   "outputs": [],
   "source": []
  },
  {
   "cell_type": "code",
   "execution_count": null,
   "metadata": {},
   "outputs": [],
   "source": []
  },
  {
   "cell_type": "code",
   "execution_count": 6,
   "metadata": {},
   "outputs": [],
   "source": [
    "BOC_Asia = pd.read_csv(\"BOC-PRUDENTIAL%20ASIA%20EQUITY%20FUND.csv\")"
   ]
  },
  {
   "cell_type": "code",
   "execution_count": 7,
   "metadata": {
    "scrolled": false
   },
   "outputs": [
    {
     "data": {
      "text/plain": [
       "(3462, 3)"
      ]
     },
     "execution_count": 7,
     "metadata": {},
     "output_type": "execute_result"
    }
   ],
   "source": [
    "BOC_Asia.shape"
   ]
  },
  {
   "cell_type": "code",
   "execution_count": 8,
   "metadata": {},
   "outputs": [
    {
     "name": "stdout",
     "output_type": "stream",
     "text": [
      "<class 'pandas.core.frame.DataFrame'>\n",
      "RangeIndex: 3462 entries, 0 to 3461\n",
      "Data columns (total 3 columns):\n",
      " #   Column   Non-Null Count  Dtype  \n",
      "---  ------   --------------  -----  \n",
      " 0   報價日期     3462 non-null   object \n",
      " 1   賣出價(港元)  3462 non-null   float64\n",
      " 2   買入價(港元)  3462 non-null   float64\n",
      "dtypes: float64(2), object(1)\n",
      "memory usage: 81.3+ KB\n"
     ]
    }
   ],
   "source": [
    "BOC_Asia.info()\n",
    "#count for FUND_TOTAL_ASSETS is 24 because it only has data once a month."
   ]
  },
  {
   "cell_type": "code",
   "execution_count": 9,
   "metadata": {},
   "outputs": [
    {
     "data": {
      "text/plain": [
       "array([['3/10/2006', 10.0, 10.0],\n",
       "       ['4/10/2006', 10.0, 10.0],\n",
       "       ['5/10/2006', 10.0, 10.0],\n",
       "       ...,\n",
       "       ['20/10/2020', 16.0716, 16.0716],\n",
       "       ['21/10/2020', 16.1737, 16.1737],\n",
       "       ['22/10/2020', 16.1603, 16.1603]], dtype=object)"
      ]
     },
     "execution_count": 9,
     "metadata": {},
     "output_type": "execute_result"
    }
   ],
   "source": [
    "BOC_Asia.values"
   ]
  },
  {
   "cell_type": "code",
   "execution_count": 10,
   "metadata": {},
   "outputs": [
    {
     "data": {
      "text/html": [
       "<div>\n",
       "<style scoped>\n",
       "    .dataframe tbody tr th:only-of-type {\n",
       "        vertical-align: middle;\n",
       "    }\n",
       "\n",
       "    .dataframe tbody tr th {\n",
       "        vertical-align: top;\n",
       "    }\n",
       "\n",
       "    .dataframe thead th {\n",
       "        text-align: right;\n",
       "    }\n",
       "</style>\n",
       "<table border=\"1\" class=\"dataframe\">\n",
       "  <thead>\n",
       "    <tr style=\"text-align: right;\">\n",
       "      <th></th>\n",
       "      <th>賣出價(港元)</th>\n",
       "      <th>買入價(港元)</th>\n",
       "    </tr>\n",
       "  </thead>\n",
       "  <tbody>\n",
       "    <tr>\n",
       "      <th>count</th>\n",
       "      <td>3462.000000</td>\n",
       "      <td>3462.000000</td>\n",
       "    </tr>\n",
       "    <tr>\n",
       "      <th>mean</th>\n",
       "      <td>12.741564</td>\n",
       "      <td>12.741564</td>\n",
       "    </tr>\n",
       "    <tr>\n",
       "      <th>std</th>\n",
       "      <td>1.876490</td>\n",
       "      <td>1.876490</td>\n",
       "    </tr>\n",
       "    <tr>\n",
       "      <th>min</th>\n",
       "      <td>6.537900</td>\n",
       "      <td>6.537900</td>\n",
       "    </tr>\n",
       "    <tr>\n",
       "      <th>25%</th>\n",
       "      <td>11.661600</td>\n",
       "      <td>11.661600</td>\n",
       "    </tr>\n",
       "    <tr>\n",
       "      <th>50%</th>\n",
       "      <td>12.833500</td>\n",
       "      <td>12.833500</td>\n",
       "    </tr>\n",
       "    <tr>\n",
       "      <th>75%</th>\n",
       "      <td>13.981600</td>\n",
       "      <td>13.981600</td>\n",
       "    </tr>\n",
       "    <tr>\n",
       "      <th>max</th>\n",
       "      <td>16.914800</td>\n",
       "      <td>16.914800</td>\n",
       "    </tr>\n",
       "  </tbody>\n",
       "</table>\n",
       "</div>"
      ],
      "text/plain": [
       "           賣出價(港元)      買入價(港元)\n",
       "count  3462.000000  3462.000000\n",
       "mean     12.741564    12.741564\n",
       "std       1.876490     1.876490\n",
       "min       6.537900     6.537900\n",
       "25%      11.661600    11.661600\n",
       "50%      12.833500    12.833500\n",
       "75%      13.981600    13.981600\n",
       "max      16.914800    16.914800"
      ]
     },
     "execution_count": 10,
     "metadata": {},
     "output_type": "execute_result"
    }
   ],
   "source": [
    "BOC_Asia.describe()"
   ]
  },
  {
   "cell_type": "code",
   "execution_count": 11,
   "metadata": {},
   "outputs": [
    {
     "data": {
      "text/plain": [
       "<bound method NDFrame.head of             報價日期  賣出價(港元)  買入價(港元)\n",
       "0      3/10/2006  10.0000  10.0000\n",
       "1      4/10/2006  10.0000  10.0000\n",
       "2      5/10/2006  10.0000  10.0000\n",
       "3      6/10/2006   9.9961   9.9961\n",
       "4      9/10/2006   9.9586   9.9586\n",
       "...          ...      ...      ...\n",
       "3457  16/10/2020  15.9735  15.9735\n",
       "3458  19/10/2020  16.0691  16.0691\n",
       "3459  20/10/2020  16.0716  16.0716\n",
       "3460  21/10/2020  16.1737  16.1737\n",
       "3461  22/10/2020  16.1603  16.1603\n",
       "\n",
       "[3462 rows x 3 columns]>"
      ]
     },
     "execution_count": 11,
     "metadata": {},
     "output_type": "execute_result"
    }
   ],
   "source": [
    "BOC_Asia.head"
   ]
  },
  {
   "cell_type": "code",
   "execution_count": 12,
   "metadata": {},
   "outputs": [
    {
     "data": {
      "text/plain": [
       "<bound method NDFrame.tail of             報價日期  賣出價(港元)  買入價(港元)\n",
       "0      3/10/2006  10.0000  10.0000\n",
       "1      4/10/2006  10.0000  10.0000\n",
       "2      5/10/2006  10.0000  10.0000\n",
       "3      6/10/2006   9.9961   9.9961\n",
       "4      9/10/2006   9.9586   9.9586\n",
       "...          ...      ...      ...\n",
       "3457  16/10/2020  15.9735  15.9735\n",
       "3458  19/10/2020  16.0691  16.0691\n",
       "3459  20/10/2020  16.0716  16.0716\n",
       "3460  21/10/2020  16.1737  16.1737\n",
       "3461  22/10/2020  16.1603  16.1603\n",
       "\n",
       "[3462 rows x 3 columns]>"
      ]
     },
     "execution_count": 12,
     "metadata": {},
     "output_type": "execute_result"
    }
   ],
   "source": [
    "BOC_Asia.tail"
   ]
  },
  {
   "cell_type": "code",
   "execution_count": 13,
   "metadata": {},
   "outputs": [
    {
     "data": {
      "text/plain": [
       "報價日期        object\n",
       "賣出價(港元)    float64\n",
       "買入價(港元)    float64\n",
       "dtype: object"
      ]
     },
     "execution_count": 13,
     "metadata": {},
     "output_type": "execute_result"
    }
   ],
   "source": [
    "BOC_Asia.dtypes"
   ]
  },
  {
   "cell_type": "code",
   "execution_count": 16,
   "metadata": {},
   "outputs": [
    {
     "data": {
      "text/html": [
       "<div>\n",
       "<style scoped>\n",
       "    .dataframe tbody tr th:only-of-type {\n",
       "        vertical-align: middle;\n",
       "    }\n",
       "\n",
       "    .dataframe tbody tr th {\n",
       "        vertical-align: top;\n",
       "    }\n",
       "\n",
       "    .dataframe thead th {\n",
       "        text-align: right;\n",
       "    }\n",
       "</style>\n",
       "<table border=\"1\" class=\"dataframe\">\n",
       "  <thead>\n",
       "    <tr style=\"text-align: right;\">\n",
       "      <th></th>\n",
       "      <th>報價日期</th>\n",
       "      <th>賣出價(港元)</th>\n",
       "      <th>買入價(港元)</th>\n",
       "    </tr>\n",
       "  </thead>\n",
       "  <tbody>\n",
       "    <tr>\n",
       "      <th>0</th>\n",
       "      <td>3/10/2006</td>\n",
       "      <td>10.0000</td>\n",
       "      <td>10.0000</td>\n",
       "    </tr>\n",
       "    <tr>\n",
       "      <th>1</th>\n",
       "      <td>4/10/2006</td>\n",
       "      <td>10.0000</td>\n",
       "      <td>10.0000</td>\n",
       "    </tr>\n",
       "    <tr>\n",
       "      <th>2</th>\n",
       "      <td>5/10/2006</td>\n",
       "      <td>10.0000</td>\n",
       "      <td>10.0000</td>\n",
       "    </tr>\n",
       "    <tr>\n",
       "      <th>3</th>\n",
       "      <td>6/10/2006</td>\n",
       "      <td>9.9961</td>\n",
       "      <td>9.9961</td>\n",
       "    </tr>\n",
       "    <tr>\n",
       "      <th>4</th>\n",
       "      <td>9/10/2006</td>\n",
       "      <td>9.9586</td>\n",
       "      <td>9.9586</td>\n",
       "    </tr>\n",
       "    <tr>\n",
       "      <th>...</th>\n",
       "      <td>...</td>\n",
       "      <td>...</td>\n",
       "      <td>...</td>\n",
       "    </tr>\n",
       "    <tr>\n",
       "      <th>3457</th>\n",
       "      <td>16/10/2020</td>\n",
       "      <td>15.9735</td>\n",
       "      <td>15.9735</td>\n",
       "    </tr>\n",
       "    <tr>\n",
       "      <th>3458</th>\n",
       "      <td>19/10/2020</td>\n",
       "      <td>16.0691</td>\n",
       "      <td>16.0691</td>\n",
       "    </tr>\n",
       "    <tr>\n",
       "      <th>3459</th>\n",
       "      <td>20/10/2020</td>\n",
       "      <td>16.0716</td>\n",
       "      <td>16.0716</td>\n",
       "    </tr>\n",
       "    <tr>\n",
       "      <th>3460</th>\n",
       "      <td>21/10/2020</td>\n",
       "      <td>16.1737</td>\n",
       "      <td>16.1737</td>\n",
       "    </tr>\n",
       "    <tr>\n",
       "      <th>3461</th>\n",
       "      <td>22/10/2020</td>\n",
       "      <td>16.1603</td>\n",
       "      <td>16.1603</td>\n",
       "    </tr>\n",
       "  </tbody>\n",
       "</table>\n",
       "<p>3462 rows × 3 columns</p>\n",
       "</div>"
      ],
      "text/plain": [
       "            報價日期  賣出價(港元)  買入價(港元)\n",
       "0      3/10/2006  10.0000  10.0000\n",
       "1      4/10/2006  10.0000  10.0000\n",
       "2      5/10/2006  10.0000  10.0000\n",
       "3      6/10/2006   9.9961   9.9961\n",
       "4      9/10/2006   9.9586   9.9586\n",
       "...          ...      ...      ...\n",
       "3457  16/10/2020  15.9735  15.9735\n",
       "3458  19/10/2020  16.0691  16.0691\n",
       "3459  20/10/2020  16.0716  16.0716\n",
       "3460  21/10/2020  16.1737  16.1737\n",
       "3461  22/10/2020  16.1603  16.1603\n",
       "\n",
       "[3462 rows x 3 columns]"
      ]
     },
     "execution_count": 16,
     "metadata": {},
     "output_type": "execute_result"
    }
   ],
   "source": [
    "BOC_Asia.dropna(axis=\"index\",how=\"any\")"
   ]
  }
 ],
 "metadata": {
  "kernelspec": {
   "display_name": "Python 3",
   "language": "python",
   "name": "python3"
  },
  "language_info": {
   "codemirror_mode": {
    "name": "ipython",
    "version": 3
   },
   "file_extension": ".py",
   "mimetype": "text/x-python",
   "name": "python",
   "nbconvert_exporter": "python",
   "pygments_lexer": "ipython3",
   "version": "3.8.3"
  }
 },
 "nbformat": 4,
 "nbformat_minor": 4
}
